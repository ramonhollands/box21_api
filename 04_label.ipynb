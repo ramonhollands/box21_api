{
 "cells": [
  {
   "cell_type": "markdown",
   "id": "f4136803",
   "metadata": {},
   "source": [
    "# Label\n",
    "\n",
    "> Box21 label"
   ]
  },
  {
   "cell_type": "code",
   "execution_count": null,
   "id": "e3b22f90",
   "metadata": {},
   "outputs": [],
   "source": [
    "#| default_exp label"
   ]
  },
  {
   "cell_type": "code",
   "execution_count": null,
   "id": "cc796906",
   "metadata": {},
   "outputs": [],
   "source": [
    "#| hide\n",
    "from nbdev.showdoc import *"
   ]
  },
  {
   "cell_type": "markdown",
   "id": "0e119a60",
   "metadata": {},
   "source": [
    "An asset can have different annotations, eg bounding box and  keypoint"
   ]
  },
  {
   "cell_type": "code",
   "execution_count": null,
   "id": "76c712ce",
   "metadata": {},
   "outputs": [],
   "source": [
    "#| export\n",
    "\n",
    "from abc import ABC, abstractmethod, abstractproperty\n",
    "from typing import List\n",
    "from box21_api.annotation_stat import AnnotationStat\n",
    "\n",
    "class Box21Label(ABC):\n",
    "    \"Class that represents a Box21 Label\"\n",
    "    def __init__(self, \n",
    "                 id: int,\n",
    "                 name: float,\n",
    "                 parent_id: int,\n",
    "                 project_id: int,\n",
    "                 annotation_stats: List[AnnotationStat],\n",
    "                 type: int):\n",
    "        self.id = id\n",
    "        self.name = name\n",
    "        self.parent_id = parent_id\n",
    "        self.project_id = project_id\n",
    "        self.type = type\n",
    "        self.annotation_stats = annotation_stats\n",
    "\n",
    "    def __repr__(self):\n",
    "        \n",
    "        type_label = 'Bounding box'\n",
    "        if self.type == 2:\n",
    "            type_label = 'Keypoint'\n",
    "        \n",
    "        return f\"Label({type_label, self.name, self.id})\""
   ]
  },
  {
   "cell_type": "markdown",
   "id": "0f28706e",
   "metadata": {},
   "source": [
    "Box21 currently supports the following types:\n",
    "- 1: bounding box\n",
    "- 2: keypoint"
   ]
  },
  {
   "cell_type": "markdown",
   "id": "270a3ac4",
   "metadata": {},
   "source": [
    "Labels can be organized hierarchical. This is defined by a parent_id refering to the parent Label"
   ]
  },
  {
   "cell_type": "code",
   "execution_count": null,
   "id": "1d28b24b",
   "metadata": {},
   "outputs": [],
   "source": []
  }
 ],
 "metadata": {
  "kernelspec": {
   "display_name": "python3",
   "language": "python",
   "name": "python3"
  }
 },
 "nbformat": 4,
 "nbformat_minor": 5
}
