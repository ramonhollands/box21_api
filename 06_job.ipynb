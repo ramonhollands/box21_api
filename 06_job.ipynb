{
 "cells": [
  {
   "cell_type": "markdown",
   "id": "f4136803",
   "metadata": {},
   "source": [
    "# Job\n",
    "\n",
    "> Box21 job"
   ]
  },
  {
   "cell_type": "code",
   "execution_count": null,
   "id": "e3b22f90",
   "metadata": {},
   "outputs": [],
   "source": [
    "#| default_exp job"
   ]
  },
  {
   "cell_type": "code",
   "execution_count": null,
   "id": "cc796906",
   "metadata": {},
   "outputs": [],
   "source": []
  },
  {
   "cell_type": "markdown",
   "id": "0f08b035",
   "metadata": {},
   "source": [
    "# Box21 uses jobs to handle large tasks"
   ]
  },
  {
   "cell_type": "code",
   "execution_count": null,
   "id": "76c712ce",
   "metadata": {},
   "outputs": [],
   "source": [
    "#| export\n",
    "\n",
    "from abc import ABC, abstractmethod, abstractproperty\n",
    "\n",
    "class Job(ABC):\n",
    "    \"Class that represents a Box21 Job\"\n",
    "    def __init__(self, \n",
    "                 id: int,\n",
    "                 progress: int, #percentage\n",
    "                 processed: int, #1=true, 0=false\n",
    "                 description: int,\n",
    "                 created_at: str,\n",
    "                 parent_id: int,\n",
    "                 project_id: int,\n",
    "                 deleted_at: str,\n",
    "                ):\n",
    "        self.id = id\n",
    "        self.progress = progress\n",
    "        self.processed = processed\n",
    "        self.description = description\n",
    "        self.created_at = created_at\n",
    "        self.parent_id = parent_id\n",
    "        self.project_id = project_id\n",
    "        self.deleted_at = deleted_at\n",
    "        \n",
    "    def __repr__(self):    \n",
    "        return f\"Job({self.id, self.created_at, self.description})\""
   ]
  },
  {
   "cell_type": "code",
   "execution_count": null,
   "id": "07d86913",
   "metadata": {},
   "outputs": [],
   "source": []
  }
 ],
 "metadata": {
  "kernelspec": {
   "display_name": "python3",
   "language": "python",
   "name": "python3"
  }
 },
 "nbformat": 4,
 "nbformat_minor": 5
}
