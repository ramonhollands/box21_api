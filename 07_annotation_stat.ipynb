{
 "cells": [
  {
   "cell_type": "markdown",
   "metadata": {},
   "source": [
    "# Annotation stat\n",
    "Box21 Annotation stat"
   ]
  },
  {
   "cell_type": "code",
   "execution_count": 2,
   "metadata": {},
   "outputs": [],
   "source": [
    "#| default_exp annotation_stat"
   ]
  },
  {
   "cell_type": "code",
   "execution_count": 3,
   "metadata": {},
   "outputs": [],
   "source": [
    "#| export\n",
    "\n",
    "from fastcore.utils import * # type: ignore"
   ]
  },
  {
   "cell_type": "code",
   "execution_count": 4,
   "metadata": {},
   "outputs": [],
   "source": [
    "#| export\n",
    "\n",
    "from typing import Any, Dict\n",
    "\n",
    "class AnnotationStat:\n",
    "    def __init__(self, \n",
    "                 annotation_type: int,\n",
    "                 id: int,\n",
    "                 label_id: int,\n",
    "                 processed_count: int,\n",
    "                 to_be_processed_count: int\n",
    "                ):\n",
    "        self.annotation_type = annotation_type\n",
    "        self.id = id\n",
    "        self.label_id = label_id\n",
    "        self.processed_count = processed_count\n",
    "        self.to_be_processed_count = to_be_processed_count\n",
    "        \n",
    "    def __repr__(self):\n",
    "        return f\"AnnotationStat({self.annotation_type}, {self.id}, {self.label_id}, {self.processed_count}, {self.to_be_processed_count})\"\n",
    "    \n",
    "    @classmethod\n",
    "    def from_json(cls, json_dict: Dict[str, Any]) -> 'AnnotationStat':\n",
    "        \"Create an AnnotationStat instance from a JSON dictionary.\"\n",
    "        return cls(\n",
    "            json_dict['annotation_type'],\n",
    "            json_dict['id'],\n",
    "            json_dict['label_id'],\n",
    "            json_dict['processed_count'],\n",
    "            json_dict['to_be_processed_count'],\n",
    "        )\n"
   ]
  },
  {
   "cell_type": "code",
   "execution_count": null,
   "metadata": {},
   "outputs": [],
   "source": []
  }
 ],
 "metadata": {
  "kernelspec": {
   "display_name": "Python (venv)",
   "language": "python",
   "name": "venv"
  },
  "language_info": {
   "codemirror_mode": {
    "name": "ipython",
    "version": 3
   },
   "file_extension": ".py",
   "mimetype": "text/x-python",
   "name": "python",
   "nbconvert_exporter": "python",
   "pygments_lexer": "ipython3",
   "version": "3.8.19"
  }
 },
 "nbformat": 4,
 "nbformat_minor": 2
}
