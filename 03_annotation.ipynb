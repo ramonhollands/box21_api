{
 "cells": [
  {
   "cell_type": "markdown",
   "id": "f4136803",
   "metadata": {},
   "source": [
    "# Annotation\n",
    "\n",
    "> Box21 annotation"
   ]
  },
  {
   "cell_type": "code",
   "execution_count": null,
   "id": "e3b22f90",
   "metadata": {},
   "outputs": [
    {
     "name": "stdout",
     "output_type": "stream",
     "text": [
      "/Users/ramon/projects/box21_api/venv/bin/python\n"
     ]
    }
   ],
   "source": [
    "#| default_exp annotation\n",
    "import sys\n",
    "print(sys.executable)"
   ]
  },
  {
   "cell_type": "code",
   "execution_count": null,
   "id": "cc796906",
   "metadata": {},
   "outputs": [],
   "source": [
    "#| hide\n",
    "from nbdev.showdoc import *"
   ]
  },
  {
   "cell_type": "markdown",
   "id": "0e119a60",
   "metadata": {},
   "source": [
    "An asset can have different annotations, eg bounding box and  keypoint"
   ]
  },
  {
   "cell_type": "code",
   "execution_count": null,
   "id": "76c712ce",
   "metadata": {},
   "outputs": [],
   "source": [
    "#| export\n",
    "\n",
    "from abc import ABC, abstractmethod, abstractproperty\n",
    "\n",
    "class Annotation(ABC):\n",
    "    \"Abstract class that represents an Annotation\"\n",
    "    def __init__(self,\n",
    "                 label_name: str, # label name\n",
    "                 certainty: float, # certainty of annotation\n",
    "                ):\n",
    "        self.label_name = label_name\n",
    "        self.certainty = certainty\n",
    "\n",
    "class Box21Annotation(ABC):\n",
    "    \"Abstract class that represents a Box21 Annotation\"\n",
    "    def __init__(self, \n",
    "                 asset_id: int, # related asset id in Box21\n",
    "                 id: int, # unique id in Box21\n",
    "                 certainty: float, # certainty of annotation\n",
    "                 label_id: int, # related label id in Box21\n",
    "                 project_id: int, # related project id in Box21\n",
    "                 validated: bool # whether the annotation is validated\n",
    "                ): \n",
    "        self.asset_id = asset_id\n",
    "        self.id = id\n",
    "        self.certainty = certainty\n",
    "        self.label_id = label_id\n",
    "        self.project_id = project_id\n",
    "        self.validated = validated"
   ]
  },
  {
   "cell_type": "markdown",
   "id": "0f28706e",
   "metadata": {},
   "source": [
    "Box21 currently supports the following annotations"
   ]
  },
  {
   "cell_type": "markdown",
   "id": "b33829f8",
   "metadata": {},
   "source": [
    "### Keypoint"
   ]
  },
  {
   "cell_type": "code",
   "execution_count": null,
   "id": "c44f18d3",
   "metadata": {},
   "outputs": [],
   "source": [
    "#| export\n",
    "\n",
    "class Keypoint(Annotation):\n",
    "    \"Represents a Keypoint Annotation\"\n",
    "    def __init__(self,\n",
    "                 label_name: str,\n",
    "                 certainty: float,\n",
    "                 x: float,\n",
    "                 y: float\n",
    "                ):\n",
    "        super().__init__(label_name, certainty)\n",
    "        self.x = x\n",
    "        self.y = y\n",
    "        \n",
    "    def __repr__(self):\n",
    "        return f\"Keypoint({self.label_name}, {self.x, self.y})\"\n",
    "        "
   ]
  },
  {
   "cell_type": "code",
   "execution_count": null,
   "id": "d361e87e",
   "metadata": {},
   "outputs": [],
   "source": [
    "#| export\n",
    "\n",
    "class Box21Keypoint(Box21Annotation):\n",
    "    \"Represents a Box21 Keypoint Annotation\"\n",
    "    def __init__(self,\n",
    "                 asset_id: int, \n",
    "                 id: int,\n",
    "                 certainty: float,\n",
    "                 label_id: int,\n",
    "                 project_id: int,\n",
    "                 validated: bool,\n",
    "                 x: int,\n",
    "                 y: int\n",
    "                ):\n",
    "        super().__init__(asset_id, id, certainty, label_id, project_id, validated)\n",
    "        self.x = x\n",
    "        self.y = y\n",
    "        \n",
    "    def __repr__(self):\n",
    "        return f\"Keypoint({self.label_id}, {self.x, self.y})\"\n",
    "        "
   ]
  },
  {
   "cell_type": "markdown",
   "id": "1376e7eb",
   "metadata": {},
   "source": [
    "### BoundingBox"
   ]
  },
  {
   "cell_type": "code",
   "execution_count": null,
   "id": "58532451",
   "metadata": {},
   "outputs": [],
   "source": [
    "#| export\n",
    "\n",
    "class BoundingBox(Annotation):\n",
    "    \"Represents a BoundingBox Annotation\"\n",
    "    def __init__(self,\n",
    "                 label_name: str,\n",
    "                 certainty: float,\n",
    "                 x: float,\n",
    "                 y: float,\n",
    "                 width: float,\n",
    "                 height: float\n",
    "                ):\n",
    "        super().__init__(label_name, certainty)\n",
    "        self.x = x\n",
    "        self.y = y\n",
    "        self.height = height\n",
    "        self.width = width\n",
    "        \n",
    "    def __repr__(self):\n",
    "        return f\"BoundingBox({self.label_name}, {self.x, self.y, self.width, self.height})\"\n",
    "\n",
    "\n",
    "class Box21BoundingBox(Box21Annotation):\n",
    "    \"Represents a Box21 BoundingBox Annotation\"\n",
    "    def __init__(self,\n",
    "                 asset_id: int, \n",
    "                 id: int,\n",
    "                 certainty: float,\n",
    "                 label_id: int,\n",
    "                 project_id: int,\n",
    "                 validated: bool,\n",
    "                 x: float,\n",
    "                 y: float,\n",
    "                 width: float,\n",
    "                 height: float\n",
    "                ):\n",
    "        super().__init__(asset_id, id, certainty, label_id, project_id, validated)\n",
    "        self.x = x\n",
    "        self.y = y\n",
    "        self.height = height\n",
    "        self.width = width\n",
    "        \n",
    "    def __repr__(self):\n",
    "\n",
    "        return f\"BoundingBox({self.label_id}, {self.x, self.y, self.width, self.height})\""
   ]
  },
  {
   "cell_type": "code",
   "execution_count": null,
   "id": "3010c838",
   "metadata": {},
   "outputs": [],
   "source": [
    "#| export\n",
    "\n",
    "from typing import Any, Dict\n",
    "import json\n",
    "\n",
    "def parse_json_annotation(annotation_json : Dict[str,Any]) -> Box21Annotation:\n",
    "    asset_id = annotation_json['asset_id']\n",
    "    annotation_id = annotation_json['id']\n",
    "    certainty = annotation_json['certainty']\n",
    "    label_id = annotation_json['label_id']\n",
    "    project_id = annotation_json['project_id']\n",
    "    validated = annotation_json['validated']\n",
    "    coords = json.loads(annotation_json['coords'])\n",
    "\n",
    "    if annotation_json['type'] == 1:\n",
    "        x, y, w, h = coords\n",
    "        return Box21BoundingBox(asset_id, annotation_id, certainty, label_id, project_id, validated, x, y, w, h)\n",
    "    else:\n",
    "        x, y = coords\n",
    "        return Box21Keypoint(asset_id, annotation_id, certainty, label_id, project_id, validated, x, y)"
   ]
  }
 ],
 "metadata": {
  "kernelspec": {
   "display_name": "Python (venv)",
   "language": "python",
   "name": "venv"
  },
  "language_info": {
   "codemirror_mode": {
    "name": "ipython",
    "version": 3
   },
   "file_extension": ".py",
   "mimetype": "text/x-python",
   "name": "python",
   "nbconvert_exporter": "python",
   "pygments_lexer": "ipython3",
   "version": "3.8.19"
  }
 },
 "nbformat": 4,
 "nbformat_minor": 5
}
