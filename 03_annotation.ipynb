{
 "cells": [
  {
   "cell_type": "markdown",
   "id": "f4136803",
   "metadata": {},
   "source": [
    "# Annotation\n",
    "\n",
    "> Box21 annotation"
   ]
  },
  {
   "cell_type": "code",
   "execution_count": null,
   "id": "e3b22f90",
   "metadata": {},
   "outputs": [],
   "source": [
    "#| default_exp annotation"
   ]
  },
  {
   "cell_type": "code",
   "execution_count": null,
   "id": "cc796906",
   "metadata": {},
   "outputs": [],
   "source": [
    "#| hide\n",
    "from nbdev.showdoc import *"
   ]
  },
  {
   "cell_type": "markdown",
   "id": "0e119a60",
   "metadata": {},
   "source": [
    "An asset can have different annotations, eg bounding box and  keypoint"
   ]
  },
  {
   "cell_type": "code",
   "execution_count": null,
   "id": "76c712ce",
   "metadata": {},
   "outputs": [],
   "source": [
    "#| export\n",
    "\n",
    "from abc import ABC, abstractmethod, abstractproperty\n",
    "\n",
    "class Annotation(ABC):\n",
    "    def __init__(self, \n",
    "                 asset_id: int, \n",
    "                 id: int,\n",
    "                 certainty: float,\n",
    "                 label_id: int,\n",
    "                 label_name: str,\n",
    "                 project_id: int,\n",
    "                 validated: bool):\n",
    "        self.asset_id = asset_id\n",
    "        self.id = id\n",
    "        self.certainty = certainty\n",
    "        self.label_id = label_id\n",
    "        self.label_name = label_name\n",
    "        self.project_id = project_id\n",
    "        self.validated = validated"
   ]
  },
  {
   "cell_type": "markdown",
   "id": "0f28706e",
   "metadata": {},
   "source": [
    "Box21 currently supports the following annotations"
   ]
  },
  {
   "cell_type": "markdown",
   "id": "b33829f8",
   "metadata": {},
   "source": [
    "### Keypoint"
   ]
  },
  {
   "cell_type": "code",
   "execution_count": null,
   "id": "c44f18d3",
   "metadata": {},
   "outputs": [],
   "source": [
    "#| export\n",
    "\n",
    "class Keypoint(Annotation):\n",
    "    def __init__(self,\n",
    "                 asset_id: int, \n",
    "                 id: int,\n",
    "                 certainty: float,\n",
    "                 label_id: int,\n",
    "                 label_name: str,\n",
    "                 project_id: int,\n",
    "                 validated: bool,\n",
    "                 x: float,\n",
    "                 y: float\n",
    "                ):\n",
    "        super().__init__(asset_id, id, certainty, label_id, label_name, project_id, validated)\n",
    "        self.x = x\n",
    "        self.y = y\n",
    "        \n",
    "    def __repr__(self):\n",
    "        return f\"Keypoint({self.label_name}, {self.x, self.y})\"\n",
    "        "
   ]
  },
  {
   "cell_type": "markdown",
   "id": "1376e7eb",
   "metadata": {},
   "source": [
    "### BoundingBox"
   ]
  },
  {
   "cell_type": "code",
   "execution_count": null,
   "id": "58532451",
   "metadata": {},
   "outputs": [],
   "source": [
    "#| export\n",
    "\n",
    "class BoundingBox(Annotation):\n",
    "    def __init__(self,\n",
    "                 asset_id: int, \n",
    "                 id: int,\n",
    "                 certainty: float,\n",
    "                 label_id: int,\n",
    "                 label_name: str,\n",
    "                 project_id: int,\n",
    "                 validated: bool,\n",
    "                 x: float,\n",
    "                 y: float,\n",
    "                 width: float,\n",
    "                 height: float\n",
    "                ):\n",
    "        super().__init__(asset_id, id, certainty, label_id, label_name, project_id, validated)\n",
    "        self.x = x\n",
    "        self.y = y\n",
    "        self.height = height\n",
    "        self.width = width\n",
    "        \n",
    "    def __repr__(self):\n",
    "        return f\"BoundingBox({self.label_name}, {self.x, self.y, self.width, self.height})\""
   ]
  }
 ],
 "metadata": {
  "kernelspec": {
   "display_name": "Python 3 (ipykernel)",
   "language": "python",
   "name": "python3"
  }
 },
 "nbformat": 4,
 "nbformat_minor": 5
}
