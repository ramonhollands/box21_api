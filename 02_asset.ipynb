{
 "cells": [
  {
   "cell_type": "markdown",
   "id": "f4136803",
   "metadata": {},
   "source": [
    "# Asset\n",
    "\n",
    "> Box21 asset"
   ]
  },
  {
   "cell_type": "code",
   "execution_count": null,
   "id": "e3b22f90",
   "metadata": {},
   "outputs": [],
   "source": [
    "#| default_exp asset"
   ]
  },
  {
   "cell_type": "code",
   "execution_count": null,
   "id": "cc796906",
   "metadata": {},
   "outputs": [],
   "source": [
    "#| export\n",
    "\n",
    "from fastcore.utils import *"
   ]
  },
  {
   "cell_type": "code",
   "execution_count": null,
   "id": "112048ea",
   "metadata": {},
   "outputs": [],
   "source": []
  },
  {
   "cell_type": "markdown",
   "id": "b3259738",
   "metadata": {},
   "source": [
    "An asset contains an image, meta information like validated or in_validation_set and optional a set op annotations (eg points and bounding boxes)"
   ]
  },
  {
   "cell_type": "code",
   "execution_count": null,
   "id": "76c712ce",
   "metadata": {},
   "outputs": [],
   "source": [
    "#| export\n",
    "\n",
    "class Asset:\n",
    "    def __init__(self, \n",
    "                 deleted: str, # deleted\n",
    "                 id: int, # id\n",
    "                 in_validation_set: bool, # whether the asset is in the validation set\n",
    "                 liked: bool, # whether the asset is liked in Box21\n",
    "                 meta: str, # json dict with key value pairs\n",
    "                 original_category: str, # optional category\n",
    "                 path: str, # box21 asset path\n",
    "                 project_id: int, # box21 asset project_id\n",
    "                 unclear:bool, # whether the asset is marked as unclear\n",
    "                 validated: bool # whether the asset is marked as validated\n",
    "                ):\n",
    "        \"Create a new asset, including the following parameters.\"\n",
    "        self.deleted = deleted\n",
    "        self.id = id\n",
    "        self.in_validation_set = in_validation_set\n",
    "        self.liked = liked\n",
    "        self.meta = meta\n",
    "        self.original_category = original_category\n",
    "        self.path = path\n",
    "        self.project_id = project_id\n",
    "        self.unclear = unclear\n",
    "        self.validated = validated\n",
    "        \n",
    "    def __repr__(self):\n",
    "        return f\"Asset({self.meta})\"\n",
    "    \n",
    "    @classmethod\n",
    "    def from_json(cls, json_dict):\n",
    "        asset = cls(\n",
    "            json_dict['deleted'],\n",
    "            json_dict['id'],\n",
    "            json_dict['in_validation_set'],\n",
    "            json_dict['liked'],\n",
    "            json_dict['meta'],\n",
    "            json_dict['original_category'],\n",
    "            json_dict['path'],\n",
    "            json_dict['project_id'],\n",
    "            json_dict['unclear'],\n",
    "            json_dict['validated'],\n",
    "        )\n",
    "        return asset\n",
    "    \"Draw `n` cards.\""
   ]
  },
  {
   "cell_type": "code",
   "execution_count": null,
   "id": "7f437edb",
   "metadata": {},
   "outputs": [
    {
     "name": "stdout",
     "output_type": "stream",
     "text": [
      "21\n"
     ]
    }
   ],
   "source": [
    "json_dict = {'deleted': None, 'filename': '768a1300-79f1-4261-b7cc-0ff44669008b_bricks_oblique_4_10.jpg', 'id': 21, 'in_validation_set': False, 'liked': False, 'meta': '{\"filename\": \"768a1300-79f1-4261-b7cc-0ff44669008b_bricks_oblique_4_10.jpg\", \"import\": \"true\", \"description\": \"Movies\"}', 'original_category': '', 'path': '768a1300-79f1-4261-b7cc-0ff44669008b_bricks_oblique_4_10.jpg', 'project_id': 3, 'unclear': False, 'validated': 'true'}\n",
    "asset = Asset.from_json(json_dict)\n",
    "print(asset.id)"
   ]
  },
  {
   "cell_type": "code",
   "execution_count": null,
   "id": "61f06a27",
   "metadata": {},
   "outputs": [],
   "source": []
  },
  {
   "cell_type": "code",
   "execution_count": null,
   "id": "a3a26e93",
   "metadata": {},
   "outputs": [],
   "source": []
  },
  {
   "cell_type": "code",
   "execution_count": null,
   "id": "54408679",
   "metadata": {},
   "outputs": [],
   "source": []
  }
 ],
 "metadata": {
  "kernelspec": {
   "display_name": "Python 3 (ipykernel)",
   "language": "python",
   "name": "python3"
  }
 },
 "nbformat": 4,
 "nbformat_minor": 5
}
