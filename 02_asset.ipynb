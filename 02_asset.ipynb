{
 "cells": [
  {
   "cell_type": "markdown",
   "id": "f4136803",
   "metadata": {},
   "source": [
    "# Asset\n",
    "\n",
    "> Box21 asset"
   ]
  },
  {
   "cell_type": "code",
   "execution_count": null,
   "id": "e3b22f90",
   "metadata": {},
   "outputs": [],
   "source": [
    "#| default_exp asset"
   ]
  },
  {
   "cell_type": "code",
   "execution_count": null,
   "id": "cc796906",
   "metadata": {},
   "outputs": [],
   "source": [
    "#| hide\n",
    "from nbdev.showdoc import *"
   ]
  },
  {
   "cell_type": "code",
   "execution_count": null,
   "id": "76c712ce",
   "metadata": {},
   "outputs": [],
   "source": [
    "#| export\n",
    "\n",
    "class Asset:\n",
    "    def __init__(self, \n",
    "                 deleted: str, \n",
    "                 id: int,\n",
    "                 in_validation_set: bool,\n",
    "                 liked: bool,\n",
    "                 meta: str,\n",
    "                 original_category: str,\n",
    "                 path: str,\n",
    "                 project_id: int,\n",
    "                 unclear: bool,\n",
    "                 validated: bool):\n",
    "        self.deleted = deleted\n",
    "        self.id = id\n",
    "        self.in_validation_set = in_validation_set\n",
    "        self.liked = liked\n",
    "        self.meta = meta\n",
    "        self.original_category = original_category\n",
    "        self.path = path\n",
    "        self.project_id = project_id\n",
    "        self.unclear = unclear\n",
    "        self.validated = validated\n",
    "        \n",
    "    def __repr__(self):\n",
    "        return f\"Asset({self.meta})\""
   ]
  },
  {
   "cell_type": "code",
   "execution_count": null,
   "id": "a9d54f8a",
   "metadata": {},
   "outputs": [],
   "source": [
    "#| export\n",
    "\n",
    "class Asset(Asset):\n",
    "    @classmethod\n",
    "    def from_json(cls, json_dict):\n",
    "        asset = cls(\n",
    "            json_dict['deleted'],\n",
    "            json_dict['id'],\n",
    "            json_dict['in_validation_set'],\n",
    "            json_dict['liked'],\n",
    "            json_dict['meta'],\n",
    "            json_dict['original_category'],\n",
    "            json_dict['path'],\n",
    "            json_dict['project_id'],\n",
    "            json_dict['unclear'],\n",
    "            json_dict['validated'],\n",
    "        )\n",
    "        return asset"
   ]
  },
  {
   "cell_type": "code",
   "execution_count": null,
   "id": "7f437edb",
   "metadata": {},
   "outputs": [
    {
     "name": "stdout",
     "output_type": "stream",
     "text": [
      "21\n"
     ]
    }
   ],
   "source": [
    "json_dict = {'deleted': None, 'filename': '768a1300-79f1-4261-b7cc-0ff44669008b_bricks_oblique_4_10.jpg', 'id': 21, 'in_validation_set': False, 'liked': False, 'meta': '{\"filename\": \"768a1300-79f1-4261-b7cc-0ff44669008b_bricks_oblique_4_10.jpg\", \"import\": \"true\", \"description\": \"Movies\"}', 'original_category': '', 'path': '768a1300-79f1-4261-b7cc-0ff44669008b_bricks_oblique_4_10.jpg', 'project_id': 3, 'unclear': False, 'validated': 'true'}\n",
    "asset = Asset.from_json(json_dict)\n",
    "print(asset.id)"
   ]
  },
  {
   "cell_type": "code",
   "execution_count": null,
   "id": "61f06a27",
   "metadata": {},
   "outputs": [
    {
     "data": {
      "text/markdown": [
       "---\n",
       "\n",
       "[source](https://github.com/ramonhollands/box21_api/blob/master/box21_api/asset.py#L34){target=\"_blank\" style=\"float:right; font-size:smaller\"}\n",
       "\n",
       "### Asset\n",
       "\n",
       ">      Asset (deleted:str, id:int, in_validation_set:bool, liked:bool, meta:str,\n",
       ">             original_category:str, path:str, project_id:int, unclear:bool,\n",
       ">             validated:bool)\n",
       "\n",
       "Initialize self.  See help(type(self)) for accurate signature."
      ],
      "text/plain": [
       "---\n",
       "\n",
       "[source](https://github.com/ramonhollands/box21_api/blob/master/box21_api/asset.py#L34){target=\"_blank\" style=\"float:right; font-size:smaller\"}\n",
       "\n",
       "### Asset\n",
       "\n",
       ">      Asset (deleted:str, id:int, in_validation_set:bool, liked:bool, meta:str,\n",
       ">             original_category:str, path:str, project_id:int, unclear:bool,\n",
       ">             validated:bool)\n",
       "\n",
       "Initialize self.  See help(type(self)) for accurate signature."
      ]
     },
     "execution_count": null,
     "metadata": {},
     "output_type": "execute_result"
    }
   ],
   "source": [
    "#| hide\n",
    "show_doc(Asset)"
   ]
  },
  {
   "cell_type": "code",
   "execution_count": null,
   "id": "a3a26e93",
   "metadata": {},
   "outputs": [],
   "source": []
  },
  {
   "cell_type": "code",
   "execution_count": null,
   "id": "54408679",
   "metadata": {},
   "outputs": [],
   "source": []
  }
 ],
 "metadata": {
  "kernelspec": {
   "display_name": "Python 3 (ipykernel)",
   "language": "python",
   "name": "python3"
  }
 },
 "nbformat": 4,
 "nbformat_minor": 5
}
