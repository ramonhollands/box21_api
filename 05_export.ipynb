{
 "cells": [
  {
   "cell_type": "markdown",
   "id": "f4136803",
   "metadata": {},
   "source": [
    "# Export\n",
    "\n",
    "> Box21 export"
   ]
  },
  {
   "cell_type": "code",
   "execution_count": null,
   "id": "e3b22f90",
   "metadata": {},
   "outputs": [],
   "source": [
    "#| default_exp export"
   ]
  },
  {
   "cell_type": "markdown",
   "id": "0f08b035",
   "metadata": {},
   "source": [
    "# Export Box21 data"
   ]
  },
  {
   "cell_type": "code",
   "execution_count": null,
   "id": "76c712ce",
   "metadata": {},
   "outputs": [],
   "source": [
    "#| export\n",
    "\n",
    "from typing import List\n",
    "from box21_api.asset import Asset\n",
    "from box21_api.box21_api import Box21Api\n",
    "\n",
    "def export_asset(asset: Asset, api: Box21Api):\n",
    "    annotations = api.get_annotations(asset.id)\n",
    "    print('Would export asset')\n",
    "    print('Annotations', annotations)\n",
    "\n",
    "def export_assets(assets: List[Asset], api: Box21Api): \n",
    "    \n",
    "    for asset in assets:\n",
    "        export_asset(asset, api)"
   ]
  },
  {
   "cell_type": "code",
   "execution_count": null,
   "id": "6cacd5ce-ac5a-4eaa-a570-37b32fb81e32",
   "metadata": {},
   "outputs": [],
   "source": []
  }
 ],
 "metadata": {
  "kernelspec": {
   "display_name": "python3",
   "language": "python",
   "name": "python3"
  }
 },
 "nbformat": 4,
 "nbformat_minor": 5
}
