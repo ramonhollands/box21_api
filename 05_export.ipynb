{
 "cells": [
  {
   "cell_type": "markdown",
   "id": "f4136803",
   "metadata": {},
   "source": [
    "# Export\n",
    "\n",
    "> Box21 export"
   ]
  },
  {
   "cell_type": "code",
   "execution_count": 1,
   "id": "e3b22f90",
   "metadata": {},
   "outputs": [],
   "source": [
    "#| default_exp export"
   ]
  },
  {
   "cell_type": "markdown",
   "id": "0f08b035",
   "metadata": {},
   "source": [
    "# Export Box21 data"
   ]
  },
  {
   "cell_type": "code",
   "execution_count": 10,
   "id": "76c712ce",
   "metadata": {
    "tags": []
   },
   "outputs": [],
   "source": [
    "#| export\n",
    "\n",
    "from typing import List\n",
    "from box21_api.asset import Asset\n",
    "from box21_api.box21_api import Box21Api\n",
    "\n",
    "def export_asset(asset: Asset, api: Box21Api):\n",
    "    annotations = api.get_annotations(asset.id)\n",
    "    print('Would export asset')\n",
    "    print('Annotations', annotations)\n",
    "\n",
    "def export_assets(assets: List[Asset], api: Box21Api): \n",
    "    \n",
    "    for asset in assets:\n",
    "        export_asset(asset, api)"
   ]
  },
  {
   "cell_type": "code",
   "execution_count": 11,
   "id": "df81660c-806b-4dd4-b375-646a2dfecda0",
   "metadata": {
    "tags": []
   },
   "outputs": [],
   "source": [
    "#| notest\n",
    "import os\n",
    "from dotenv import load_dotenv\n",
    "load_dotenv()\n",
    "API_USERNAME = os.environ.get('EMAIL')\n",
    "API_PASSWORD = os.environ.get('PASSWORD')\n",
    "API_PROJECT_ID = os.environ.get('PROJECT_ID')"
   ]
  },
  {
   "cell_type": "code",
   "execution_count": 18,
   "id": "db3efd72-3bfb-4d31-8e76-0541e80d4c9a",
   "metadata": {
    "tags": []
   },
   "outputs": [],
   "source": [
    "from box21_api.box21_api import Box21Api\n",
    "box21_api = Box21Api(API_USERNAME, API_PASSWORD, 'https://box21.ai', 443, API_PROJECT_ID)\n",
    "assets = box21_api.get_assets(limit=5)"
   ]
  },
  {
   "cell_type": "code",
   "execution_count": 19,
   "id": "c1f36a8b-3312-4fa3-9715-a57749afbbb1",
   "metadata": {
    "tags": []
   },
   "outputs": [
    {
     "name": "stdout",
     "output_type": "stream",
     "text": [
      "5\n"
     ]
    }
   ],
   "source": [
    "print(len(assets))"
   ]
  },
  {
   "cell_type": "code",
   "execution_count": 20,
   "id": "773508df-f5a1-4506-bc44-c64d45334458",
   "metadata": {
    "tags": []
   },
   "outputs": [
    {
     "name": "stdout",
     "output_type": "stream",
     "text": [
      "Would export asset\n",
      "Annotations []\n",
      "Would export asset\n",
      "Annotations []\n",
      "Would export asset\n",
      "Annotations [BoundingBox(Homo sapiens, (0.1328, 0.2729, 0.1047, 0.3604))]\n",
      "Would export asset\n",
      "Annotations []\n",
      "Would export asset\n",
      "Annotations []\n"
     ]
    }
   ],
   "source": [
    "export_assets(assets, box21_api)"
   ]
  },
  {
   "cell_type": "code",
   "execution_count": null,
   "id": "6cacd5ce-ac5a-4eaa-a570-37b32fb81e32",
   "metadata": {},
   "outputs": [],
   "source": []
  }
 ],
 "metadata": {
  "kernelspec": {
   "display_name": "Python 3 (ipykernel)",
   "language": "python",
   "name": "python3"
  },
  "language_info": {
   "codemirror_mode": {
    "name": "ipython",
    "version": 3
   },
   "file_extension": ".py",
   "mimetype": "text/x-python",
   "name": "python",
   "nbconvert_exporter": "python",
   "pygments_lexer": "ipython3",
   "version": "3.11.6"
  }
 },
 "nbformat": 4,
 "nbformat_minor": 5
}
