{
 "cells": [
  {
   "cell_type": "markdown",
   "metadata": {},
   "source": [
    "# Box21 asset and annotation filters\n",
    "\n",
    "> Filters for your data"
   ]
  },
  {
   "cell_type": "code",
   "execution_count": 1,
   "metadata": {},
   "outputs": [],
   "source": [
    "#| default_exp filters"
   ]
  },
  {
   "cell_type": "code",
   "execution_count": 4,
   "metadata": {},
   "outputs": [],
   "source": [
    "#|export\n",
    "\n",
    "from typing import Any, Dict\n",
    "\n",
    "def get_contains_meta_filter(contains: str) -> Dict[str, Any]:\n",
    "    return {\"type\":7,\"value\":contains}\n",
    "\n",
    "def get_in_validation_set_filter() -> Dict[str, Any]:\n",
    "    return {\"type\": 13, \"value\": 'Yes'}\n",
    "\n",
    "def get_not_in_validation_set_filter() -> Dict[str, Any]:\n",
    "    return {\"type\": 13, \"value\": 'No'}\n",
    "\n",
    "def get_asset_is_validated_filter() -> Dict[str, Any]:\n",
    "    return {\"type\": 9, \"value\": 'Yes'}\n",
    "\n",
    "def get_asset_is_not_validated_filter() -> Dict[str, Any]:\n",
    "    return {\"type\": 9, \"value\": 'No'}\n",
    "\n",
    "def get_not_containing_annotation_with_name_filter(name: str) -> Dict[str, Any]:\n",
    "    return {\"type\": 28, \"value\": name}\n",
    "\n",
    "def get_has_suggestions_filter() -> Dict[str, Any]:\n",
    "    return {\"type\": 31, \"value\": 'Yes'}"
   ]
  },
  {
   "cell_type": "code",
   "execution_count": null,
   "metadata": {},
   "outputs": [],
   "source": []
  }
 ],
 "metadata": {
  "kernelspec": {
   "display_name": "3.8",
   "language": "python",
   "name": "python3"
  },
  "language_info": {
   "codemirror_mode": {
    "name": "ipython",
    "version": 3
   },
   "file_extension": ".py",
   "mimetype": "text/x-python",
   "name": "python",
   "nbconvert_exporter": "python",
   "pygments_lexer": "ipython3",
   "version": "3.8.19"
  }
 },
 "nbformat": 4,
 "nbformat_minor": 2
}
